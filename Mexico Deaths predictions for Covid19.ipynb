{
 "cells": [
  {
   "cell_type": "markdown",
   "metadata": {},
   "source": [
    "# Contrasting Death Predictions for covid19"
   ]
  },
  {
   "cell_type": "markdown",
   "metadata": {},
   "source": [
    "[![video example](https://i.imgur.com/mD7qGK9.png)](http://www.youtube.com/watch?v=i9Cl55fZTw4)"
   ]
  },
  {
   "cell_type": "markdown",
   "metadata": {},
   "source": [
    "## Predictions come from Youyang gu covid19-projections\n",
    "<br>\n",
    "<a href = 'https://covid19-projections.com/'>\n",
    "    <img align=\"center\" src=\"https://i.imgur.com/KRD3QRy.png\">\n",
    "</a>"
   ]
  },
  {
   "cell_type": "markdown",
   "metadata": {},
   "source": [
    "## Data comes from Youyang respository:\n",
    "* [covid19_projections](https://github.com/youyanggu/covid19_projections)\n",
    "you'll need the 'projections' folder that's on the repository:\n",
    "\n",
    "<a href = 'https://github.com/youyanggu/covid19_projections'>\n",
    "    <img align=\"left\" src=\"https://i.imgur.com/j7I7NZb.png\">\n",
    "</a>"
   ]
  },
  {
   "cell_type": "code",
   "execution_count": 1,
   "metadata": {},
   "outputs": [],
   "source": [
    "import os\n",
    "import calendar\n",
    "import pandas as pd\n",
    "import numpy as np\n",
    "import matplotlib.pyplot as plt\n",
    "import imageio\n",
    "from shutil import copy2\n",
    "from IPython.display import Video, clear_output\n",
    "\n",
    "from prediction_animation import clean_nan, eliminate_negatives, is_date, get_files, make_videos\n",
    "    \n",
    "#function to play the result video.\n",
    "def play_video(country_name,dtype):\n",
    "    return Video(f'results\\{country_name}\\{dtype}_{country_name.lower()}.mp4',width=900, height=400)"
   ]
  },
  {
   "cell_type": "markdown",
   "metadata": {},
   "source": [
    "# This are the plotting functions"
   ]
  },
  {
   "cell_type": "code",
   "execution_count": 2,
   "metadata": {},
   "outputs": [],
   "source": [
    "def plot_discrete(index, database, max_deaths, prediction, country_name):\n",
    "    # discrete data changes the y limit often and that messes up the legend\n",
    "    # so this (lim_data and max_y) are here to give some space on the top\n",
    "    lim_data = max( clean_nan(database['discrete']) ) + ( max( clean_nan(database['discrete']))/ 2 )\n",
    "    max_y = max(clean_nan(database['pred_discrete_upper'])) + max(clean_nan(database['pred_discrete_upper']))/2\n",
    "    \n",
    "    plt.close('all')\n",
    "    plt.rcParams[\"figure.figsize\"] = (14,6)\n",
    "    plt.rcParams['figure.constrained_layout.use'] = True\n",
    "    \n",
    "    plt.plot(index, database['discrete'], label=f'real deaths {max_deaths}', linewidth=5, color = 'black')\n",
    "    plt.plot(index, database['pred_discrete_low'],   label = f'low pred: {clean_nan(database[\"pred_cummulative_low\"]  ) [-1]}')\n",
    "    plt.plot(index, database['pred_discrete_mean'],  label = f'mean pred: {clean_nan(database[\"pred_cummulative_mean\"] ) [-1]}')\n",
    "    plt.plot(index, database['pred_discrete_upper'], label = f'top pred: {clean_nan(database[\"pred_cummulative_upper\"]) [-1]}')\n",
    "    \n",
    "    plt.fill_between(index, database['pred_discrete_low'], database['pred_discrete_upper'], color='b', alpha=.1)\n",
    "    \n",
    "    plt.title(f' predicted deaths for September: {sum(clean_nan(database[\"pred_discrete_mean\"])) }', fontsize=25,pad=20)\n",
    "    plt.suptitle(f'{country_name.upper()}_{calendar.month_name[int(prediction[-9:-7])]}-{prediction[-6:-4]}', fontsize=20,ha='left',va='top')\n",
    "    plt.ylabel('Deaths for Covid19')\n",
    "    plt.ylim(0, max(max_y,lim_data))\n",
    "    plt.legend(fontsize=20,loc=0)\n",
    "    plt.xlabel(f'Real deaths: {max_deaths}', fontsize = 24)\n",
    "    \n",
    "    plt.savefig(f'plots/{country_name}/discrete/{prediction[-14:-4]}.jpg')\n",
    "    \n",
    "def plot_cummulative(index, database, max_deaths, prediction, country_name):\n",
    "    \n",
    "    plt.close('all')\n",
    "    plt.rcParams[\"figure.figsize\"] = (14,6)\n",
    "    \n",
    "    plt.plot(index, database['cummulative'], label=f'real deaths {max_deaths}', linewidth=5, color = 'black')\n",
    "    plt.plot(index, database['pred_cummulative_low'],   label = f'low pred: {clean_nan(database[\"pred_cummulative_low\"]  ) [-1]}')\n",
    "    plt.plot(index, database['pred_cummulative_mean'],  label = f'mean pred: {clean_nan(database[\"pred_cummulative_mean\"] ) [-1]}')\n",
    "    plt.plot(index, database['pred_cummulative_upper'], label = f'top pred: {clean_nan(database[\"pred_cummulative_upper\"]) [-1]}')\n",
    "    \n",
    "    plt.fill_between(index, database['pred_cummulative_low'], database['pred_cummulative_upper'], color='b', alpha=.1)\n",
    "    \n",
    "    plt.xlabel(f'Real deaths: {max_deaths}', fontsize = 24)\n",
    "    plt.ylabel('Deaths for Covid19')\n",
    "    plt.title(f' deaths for September: {max(clean_nan(database[\"pred_cummulative_mean\"]))}', fontsize=25,pad=20)\n",
    "    plt.suptitle(f'{country_name.upper()}_{calendar.month_name[int(prediction[-9:-7])]}-{prediction[-6:-4]}', fontsize=20,ha='left', va='top')\n",
    "    plt.legend(fontsize=16,loc='upper left')\n",
    "\n",
    "    \n",
    "    plt.savefig(f'plots/{country_name}/cummulative/{prediction[-14:-4]}.jpg')"
   ]
  },
  {
   "cell_type": "markdown",
   "metadata": {},
   "source": [
    "# This generates the database and sends it to plotting"
   ]
  },
  {
   "cell_type": "code",
   "execution_count": 3,
   "metadata": {},
   "outputs": [],
   "source": [
    "def process_data(index, cummulative, discrete, prediction, country_name):\n",
    "    \n",
    "    pred = pd.read_csv(f'predictions/{country_name}/{prediction}')\n",
    "    pred['date'] = pd.to_datetime(pred.date)\n",
    "    \n",
    "    database = {\n",
    "        \n",
    "        'cummulative': [],\n",
    "        'discrete': [],\n",
    "        'pred_cummulative_low':[],\n",
    "        'pred_cummulative_mean':[],\n",
    "        'pred_cummulative_upper':[],\n",
    "        'pred_discrete_low': [],\n",
    "        'pred_discrete_mean':[],\n",
    "        'pred_discrete_upper':[],\n",
    "    }\n",
    "    \n",
    "    for date in index:\n",
    "        try:\n",
    "            database['cummulative'].append(cummulative[cummulative.date == date].deaths.values[0])\n",
    "        except:\n",
    "            database['cummulative'].append(np.nan)\n",
    "        try:\n",
    "            database['discrete'].append(discrete[discrete.date == date].deaths.values[0])\n",
    "        except:\n",
    "            database['discrete'].append(np.nan)\n",
    "        try:\n",
    "            database['pred_cummulative_low'].append(pred[pred.date == date].predicted_total_deaths_lower.values[0])\n",
    "        except:\n",
    "            database['pred_cummulative_low'].append(np.nan)\n",
    "        try:\n",
    "            database['pred_cummulative_mean'].append(pred[pred.date == date].predicted_total_deaths_mean.values[0])\n",
    "        except:\n",
    "            database['pred_cummulative_mean'].append(np.nan)\n",
    "        try:\n",
    "            database['pred_cummulative_upper'].append(pred[pred.date == date].predicted_total_deaths_upper.values[0])\n",
    "        except:\n",
    "            database['pred_cummulative_upper'].append(np.nan)\n",
    "        try:\n",
    "            database['pred_discrete_low'].append(pred[pred.date == date].predicted_deaths_lower.values[0])\n",
    "        except:\n",
    "            database['pred_discrete_low'].append(np.nan)\n",
    "        try:\n",
    "            database['pred_discrete_mean'].append(pred[pred.date == date].predicted_deaths_mean.values[0])\n",
    "        except:\n",
    "            database['pred_discrete_mean'].append(np.nan)\n",
    "        try:\n",
    "            database['pred_discrete_upper'].append(pred[pred.date == date].predicted_deaths_upper.values[0])\n",
    "        except:\n",
    "            database['pred_discrete_upper'].append(np.nan)\n",
    "    \n",
    "    plot_cummulative(index, database, max(clean_nan(cummulative.deaths)), prediction, country_name)\n",
    "\n",
    "    plot_discrete(index, database, max(clean_nan(cummulative.deaths)), prediction, country_name)"
   ]
  },
  {
   "cell_type": "markdown",
   "metadata": {},
   "source": [
    "# This is the main funcition:\n",
    "* Selects the country data and copies it to 'predictions/{country_name}' folder\n",
    "* Creates de database for the real deaths of the newest data\n",
    "* Send one by one the rest of the day by day data to process\n",
    "* Takes the charts images and creates an mp4 with them"
   ]
  },
  {
   "cell_type": "code",
   "execution_count": 4,
   "metadata": {},
   "outputs": [],
   "source": [
    "def get_animation(country_name):\n",
    "\n",
    "    country_name = country_name.lower()\n",
    "\n",
    "    get_files(country_name.capitalize())\n",
    "        \n",
    "    if not os.path.exists(f'plots/{country_name}/cummulative'):\n",
    "        os.makedirs(f'plots/{country_name}/cummulative')\n",
    "    if not os.path.exists(f'plots/{country_name}/discrete'):\n",
    "        os.makedirs(f'plots/{country_name}/discrete')\n",
    "    if not os.path.exists(f'results/{country_name}'):    \n",
    "        os.makedirs(f'results/{country_name}')\n",
    "    \n",
    "    files_dir = os.listdir(f'predictions/{country_name}')\n",
    "    \n",
    "    oldest_file = min([pd.to_datetime(x[-14:-4]) for x in files_dir])\n",
    "    newest_file = max([pd.to_datetime(x[-14:-4]) for x in files_dir])\n",
    "    \n",
    "    # Check if there are already plots for given country   \n",
    "    if len(os.listdir(f'plots/{country_name}/cummulative')) > 0 or len(os.listdir(f'plots/{country_name}/discrete')) > 0:\n",
    "        print(f'There is already plots for {country_name.upper()} please erase all plots and run again')\n",
    "        return\n",
    "    \n",
    "    oldest_file= pd.read_csv(f'predictions/{country_name}/{country_name}_{str(oldest_file)[:10]}.csv')\n",
    "    newest_file = pd.read_csv(f'predictions/{country_name}/{country_name}_{str(newest_file)[:10]}.csv')\n",
    "        \n",
    "    start_date = min(pd.to_datetime(oldest_file.date.copy()))\n",
    "    end_date   = max(pd.to_datetime(newest_file.date.copy()))\n",
    "    \n",
    "    index = pd.date_range(start = start_date, end = end_date)\n",
    "    \n",
    "    cummulative = pd.DataFrame()\n",
    "    cummulative['date'] = pd.to_datetime(newest_file.date.copy())\n",
    "    cummulative['deaths']= newest_file.total_deaths\n",
    "    cummulative = eliminate_negatives(cummulative)\n",
    "    \n",
    "    discrete = pd.DataFrame()\n",
    "    discrete['date'] = pd.to_datetime(newest_file.date.copy())\n",
    "    discrete['deaths']= newest_file.actual_deaths\n",
    "    discrete = eliminate_negatives(discrete)\n",
    "    \n",
    "    for file in files_dir:\n",
    "        process_data(index, cummulative, discrete, file, country_name)\n",
    "        clear_output(wait=True)\n",
    "        print('##########')\n",
    "        print(f'{file[-14:-4]} ready...')\n",
    "    \n",
    "    print('##########')\n",
    "    print('Processing final animations...')\n",
    "    \n",
    "    make_videos(country_name)\n",
    "    "
   ]
  },
  {
   "cell_type": "markdown",
   "metadata": {},
   "source": [
    "# To create an animation just pass the country name to the main function:"
   ]
  },
  {
   "cell_type": "code",
   "execution_count": null,
   "metadata": {
    "scrolled": false
   },
   "outputs": [
    {
     "name": "stdout",
     "output_type": "stream",
     "text": [
      "##########\n",
      "2020-04-27 ready...\n"
     ]
    }
   ],
   "source": [
    "get_animation('Us')"
   ]
  },
  {
   "cell_type": "markdown",
   "metadata": {},
   "source": [
    "## Play any result video:"
   ]
  },
  {
   "cell_type": "markdown",
   "metadata": {},
   "source": [
    "### cummulative:"
   ]
  },
  {
   "cell_type": "code",
   "execution_count": null,
   "metadata": {},
   "outputs": [],
   "source": [
    "play_video('Us','cummulative')"
   ]
  },
  {
   "cell_type": "markdown",
   "metadata": {},
   "source": [
    "### discrete:"
   ]
  },
  {
   "cell_type": "code",
   "execution_count": null,
   "metadata": {},
   "outputs": [],
   "source": [
    "play_video('Us','discrete')"
   ]
  }
 ],
 "metadata": {
  "kernelspec": {
   "display_name": "Python 3",
   "language": "python",
   "name": "python3"
  },
  "language_info": {
   "codemirror_mode": {
    "name": "ipython",
    "version": 3
   },
   "file_extension": ".py",
   "mimetype": "text/x-python",
   "name": "python",
   "nbconvert_exporter": "python",
   "pygments_lexer": "ipython3",
   "version": "3.7.5"
  }
 },
 "nbformat": 4,
 "nbformat_minor": 4
}

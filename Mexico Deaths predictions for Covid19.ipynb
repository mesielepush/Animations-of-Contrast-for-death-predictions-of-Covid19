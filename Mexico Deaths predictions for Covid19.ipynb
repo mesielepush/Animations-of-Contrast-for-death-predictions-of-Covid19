{
 "cells": [
  {
   "cell_type": "code",
   "execution_count": 1,
   "metadata": {},
   "outputs": [],
   "source": [
    "import calendar\n",
    "import pandas as pd\n",
    "import numpy as np\n",
    "import matplotlib.pyplot as plt\n",
    "import imageio\n",
    "from IPython.display import Video\n",
    "\n",
    "from data_helpers import *"
   ]
  },
  {
   "cell_type": "code",
   "execution_count": 24,
   "metadata": {},
   "outputs": [],
   "source": [
    "def plot_cummulative(index, database, max_deaths, prediction, country_name):\n",
    "    \n",
    "    plt.close('all')\n",
    "    plt.rcParams[\"figure.figsize\"] = (15,6)\n",
    "    plt.rcParams['figure.constrained_layout.use'] = True\n",
    "    \n",
    "    plt.plot(index, database['discrete'], label=f'real deaths {max_deaths}', linewidth=5, color = 'black')\n",
    "    plt.plot(index, database['pred_discrete_low'],   label = f'pred deaths: {clean_nan(database[\"pred_cummulative_low\"]  ) [-1]}')\n",
    "    plt.plot(index, database['pred_discrete_mean'],  label = f'pred deaths: {clean_nan(database[\"pred_cummulative_mean\"] ) [-1]}')\n",
    "    plt.plot(index, database['pred_discrete_upper'], label = f'pred deaths: {clean_nan(database[\"pred_cummulative_upper\"]) [-1]}')\n",
    "    \n",
    "    plt.fill_between(index, database['pred_discrete_low'], database['pred_discrete_upper'], color='b', alpha=.1)\n",
    "    \n",
    "    plt.title(f' predicted deaths for September: {sum(clean_nan(database[\"pred_discrete_mean\"])) }', fontsize=25,pad=20)\n",
    "    plt.suptitle(f'{country_name.upper()}_{calendar.month_name[int(prediction[-9:-7])]}-{prediction[-6:-4]}', fontsize=20,ha='left',va='top')\n",
    "    plt.ylabel('Deaths for Covid19')\n",
    "    plt.legend(fontsize=20,loc='upper left')\n",
    "    plt.xlabel(f'Real deaths: {max_deaths}', fontsize = 20)\n",
    "    \n",
    "    plt.savefig(f'plots/{country_name}/discrete/{prediction[-14:-4]}.jpg')\n",
    "    \n",
    "def plot_discrete(index, database, max_deaths, prediction, country_name):\n",
    "    \n",
    "    plt.close('all')\n",
    "    plt.rcParams[\"figure.figsize\"] = (15,6)\n",
    "    \n",
    "    plt.plot(index, database['cummulative'], label=f'real deaths {max_deaths}', linewidth=5, color = 'black')\n",
    "    plt.plot(index, database['pred_cummulative_low'],   label = f'pred deaths: {clean_nan(database[\"pred_cummulative_low\"]  ) [-1]}')\n",
    "    plt.plot(index, database['pred_cummulative_mean'],  label = f'pred deaths: {clean_nan(database[\"pred_cummulative_mean\"] ) [-1]}')\n",
    "    plt.plot(index, database['pred_cummulative_upper'], label = f'pred deaths: {clean_nan(database[\"pred_cummulative_upper\"]) [-1]}')\n",
    "    \n",
    "    plt.fill_between(index, database['pred_cummulative_low'], database['pred_cummulative_upper'], color='b', alpha=.1)\n",
    "    \n",
    "    plt.xlabel(f'Real deaths: {max_deaths}', fontsize = 20)\n",
    "    plt.ylabel('Deaths for Covid19')\n",
    "    ply.ylim(0,)\n",
    "    plt.title(f' predicted deaths: {max(clean_nan(database[\"pred_cummulative_mean\"]))}', fontsize=25,pad=20)\n",
    "    plt.suptitle(f'{country_name.upper()}_{calendar.month_name[int(prediction[-9:-7])]}-{prediction[-6:-4]}', fontsize=20,ha='left', va='top')\n",
    "    plt.legend(fontsize=16,loc='upper left')\n",
    "\n",
    "    \n",
    "    plt.savefig(f'plots/{country_name}/cummulative/{prediction[-14:-4]}.jpg')"
   ]
  },
  {
   "cell_type": "code",
   "execution_count": 6,
   "metadata": {},
   "outputs": [],
   "source": [
    "def process_plot(index, cummulative, discrete, prediction, country_name):\n",
    "    \n",
    "    pred = pd.read_csv(f'predictions/{country_name}/{prediction}')\n",
    "    pred['date'] = pd.to_datetime(pred.date)\n",
    "    \n",
    "    database = {\n",
    "        \n",
    "        'cummulative': [],\n",
    "        'discrete': [],\n",
    "        'pred_cummulative_low':[],\n",
    "        'pred_cummulative_mean':[],\n",
    "        'pred_cummulative_upper':[],\n",
    "        'pred_discrete_low': [],\n",
    "        'pred_discrete_mean':[],\n",
    "        'pred_discrete_upper':[],\n",
    "    }\n",
    "    \n",
    "    for date in index:\n",
    "        try:\n",
    "            database['cummulative'].append(cummulative[cummulative.date == date].deaths.values[0])\n",
    "        except:\n",
    "            database['cummulative'].append(np.nan)\n",
    "        try:\n",
    "            database['discrete'].append(discrete[discrete.date == date].deaths.values[0])\n",
    "        except:\n",
    "            database['discrete'].append(np.nan)\n",
    "        try:\n",
    "            database['pred_cummulative_low'].append(pred[pred.date == date].predicted_total_deaths_lower.values[0])\n",
    "        except:\n",
    "            database['pred_cummulative_low'].append(np.nan)\n",
    "        try:\n",
    "            database['pred_cummulative_mean'].append(pred[pred.date == date].predicted_total_deaths_mean.values[0])\n",
    "        except:\n",
    "            database['pred_cummulative_mean'].append(np.nan)\n",
    "        try:\n",
    "            database['pred_cummulative_upper'].append(pred[pred.date == date].predicted_total_deaths_upper.values[0])\n",
    "        except:\n",
    "            database['pred_cummulative_upper'].append(np.nan)\n",
    "        try:\n",
    "            database['pred_discrete_low'].append(pred[pred.date == date].predicted_deaths_lower.values[0])\n",
    "        except:\n",
    "            database['pred_discrete_low'].append(np.nan)\n",
    "        try:\n",
    "            database['pred_discrete_mean'].append(pred[pred.date == date].predicted_deaths_mean.values[0])\n",
    "        except:\n",
    "            database['pred_discrete_mean'].append(np.nan)\n",
    "        try:\n",
    "            database['pred_discrete_upper'].append(pred[pred.date == date].predicted_deaths_upper.values[0])\n",
    "        except:\n",
    "            database['pred_discrete_upper'].append(np.nan)\n",
    "        \n",
    "    plot_cummulative(index, database, max(clean_nan(cummulative.deaths)), prediction, country_name)\n",
    "\n",
    "    plot_discrete(index, database, max(clean_nan(cummulative.deaths)), prediction, country_name)"
   ]
  },
  {
   "cell_type": "code",
   "execution_count": 20,
   "metadata": {},
   "outputs": [],
   "source": [
    "def get_animation(country_name):\n",
    "    \n",
    "    get_files(country_name)\n",
    "        \n",
    "    if not os.path.exists(f'plots/{country_name}/cummulative'):\n",
    "        os.makedirs(f'plots/{country_name}/cummulative')\n",
    "    if not os.path.exists(f'plots/{country_name}/discrete'):\n",
    "        os.makedirs(f'plots/{country_name}/discrete')\n",
    "    if not os.path.exists(f'results/{country_name}'):    \n",
    "        os.makedirs(f'results/{country_name}')\n",
    "    \n",
    "    files_dir = os.listdir(f'predictions/{country_name}')\n",
    "    \n",
    "    oldest_file = min([pd.to_datetime(x[-14:-4]) for x in files_dir])\n",
    "    newest_file = max([pd.to_datetime(x[-14:-4]) for x in files_dir])\n",
    "    \n",
    "    oldest_file= pd.read_csv(f'predictions/{country_name}/{country_name}_{str(oldest_file)[:10]}.csv')\n",
    "    newest_file = pd.read_csv(f'predictions/{country_name}/{country_name}_{str(newest_file)[:10]}.csv')\n",
    "        \n",
    "    start_date = min(pd.to_datetime(oldest_file.date.copy()))\n",
    "    end_date   = max(pd.to_datetime(newest_file.date.copy()))\n",
    "    \n",
    "    index = pd.date_range(start = start_date, end = end_date)\n",
    "    \n",
    "    cummulative = pd.DataFrame()\n",
    "    cummulative['date'] = pd.to_datetime(newest_file.date.copy())\n",
    "    cummulative['deaths']= newest_file.total_deaths\n",
    "    \n",
    "    discrete = pd.DataFrame()\n",
    "    discrete['date'] = pd.to_datetime(newest_file.date.copy())\n",
    "    discrete['deaths']= newest_file.actual_deaths\n",
    "    \n",
    "    \n",
    "    for file in files_dir:\n",
    "        process_plot(index, cummulative, discrete, file, country_name)\n",
    "    \n",
    "    # repeate last image\n",
    "    pic_dates  = [x[:-4] for x in os.listdir(f'plots/{country_name}/cummulative')]\n",
    "    max_date = str(max(pd.to_datetime(dates)))[:10]\n",
    "    for _ in range(25):\n",
    "        copy2(f'plots/{country_name}/cummulative/{max_date}.jpg', f'plots/{country_name}/cummulative/{max_date}_{_}.jpg')\n",
    "        copy2(f'plots/{country_name}/discrete/{max_date}.jpg', f'plots/{country_name}/discrete/{max_date}_{_}.jpg')\n",
    "    \n",
    "    cum_images = []\n",
    "    \n",
    "    for filename in os.listdir(f'plots/{country_name}/cummulative'):\n",
    "        cum_images.append(imageio.imread(os.path.join(f'plots/{country_name}/cummulative',filename)))\n",
    "    imageio.mimsave(f'results/{country_name}/cummulative_{country_name}.mp4', cum_images)\n",
    "    \n",
    "    dis_images = []\n",
    "    \n",
    "    for filename in os.listdir(f'plots/{country_name}/discrete'):\n",
    "        dis_images.append(imageio.imread(os.path.join(f'plots/{country_name}/discrete',filename)))\n",
    "    imageio.mimsave(f'results/{country_name}/discrete_{country_name}.mp4', dis_images)\n",
    "\n",
    "    "
   ]
  },
  {
   "cell_type": "code",
   "execution_count": 25,
   "metadata": {
    "scrolled": false
   },
   "outputs": [
    {
     "name": "stderr",
     "output_type": "stream",
     "text": [
      "IMAGEIO FFMPEG_WRITER WARNING: input image is not divisible by macro_block_size=16, resizing from (1080, 432) to (1088, 432) to ensure video compatibility with most codecs and players. To prevent resizing, make your input image divisible by the macro_block_size or set the macro_block_size to 1 (risking incompatibility).\n",
      "IMAGEIO FFMPEG_WRITER WARNING: input image is not divisible by macro_block_size=16, resizing from (1080, 432) to (1088, 432) to ensure video compatibility with most codecs and players. To prevent resizing, make your input image divisible by the macro_block_size or set the macro_block_size to 1 (risking incompatibility).\n"
     ]
    },
    {
     "data": {
      "image/png": "[encoded data removed]",
      "text/plain": [
       "<Figure size 1080x432 with 1 Axes>"
      ]
     },
     "metadata": {
      "needs_background": "light"
     },
     "output_type": "display_data"
    }
   ],
   "source": [
    "get_animation('Italy')"
   ]
  },
  {
   "cell_type": "code",
   "execution_count": 12,
   "metadata": {},
   "outputs": [],
   "source": [
    "dates = [x[:-4] for x in os.listdir(r'C:\\Users\\jupol\\Desktop\\TensorTut\\covid\\death predictions\\plots\\Mexico\\cummulative')]"
   ]
  },
  {
   "cell_type": "code",
   "execution_count": 15,
   "metadata": {},
   "outputs": [
    {
     "data": {
      "text/plain": [
       "'2020-06-05.csv'"
      ]
     },
     "execution_count": 15,
     "metadata": {},
     "output_type": "execute_result"
    }
   ],
   "source": [
    "max_date= str(max(pd.to_datetime(dates)))[:10]+'.csv'\n",
    "max_date"
   ]
  },
  {
   "cell_type": "code",
   "execution_count": null,
   "metadata": {},
   "outputs": [],
   "source": []
  },
  {
   "cell_type": "code",
   "execution_count": null,
   "metadata": {},
   "outputs": [],
   "source": []
  },
  {
   "cell_type": "code",
   "execution_count": null,
   "metadata": {},
   "outputs": [],
   "source": []
  },
  {
   "cell_type": "code",
   "execution_count": null,
   "metadata": {},
   "outputs": [],
   "source": []
  },
  {
   "cell_type": "code",
   "execution_count": null,
   "metadata": {},
   "outputs": [],
   "source": [
    "a =clean_nan(database[\"pred_cummulative_low\"])"
   ]
  },
  {
   "cell_type": "code",
   "execution_count": null,
   "metadata": {},
   "outputs": [],
   "source": [
    "a"
   ]
  },
  {
   "cell_type": "code",
   "execution_count": null,
   "metadata": {},
   "outputs": [],
   "source": [
    "type(database[\"pred_cummulative_low\"])"
   ]
  },
  {
   "cell_type": "code",
   "execution_count": null,
   "metadata": {},
   "outputs": [],
   "source": []
  },
  {
   "cell_type": "code",
   "execution_count": null,
   "metadata": {},
   "outputs": [],
   "source": []
  },
  {
   "cell_type": "code",
   "execution_count": null,
   "metadata": {},
   "outputs": [],
   "source": []
  },
  {
   "cell_type": "code",
   "execution_count": null,
   "metadata": {},
   "outputs": [],
   "source": []
  },
  {
   "cell_type": "code",
   "execution_count": null,
   "metadata": {},
   "outputs": [],
   "source": []
  },
  {
   "cell_type": "code",
   "execution_count": null,
   "metadata": {},
   "outputs": [],
   "source": []
  },
  {
   "cell_type": "code",
   "execution_count": null,
   "metadata": {},
   "outputs": [],
   "source": []
  },
  {
   "cell_type": "code",
   "execution_count": null,
   "metadata": {},
   "outputs": [],
   "source": []
  },
  {
   "cell_type": "code",
   "execution_count": null,
   "metadata": {},
   "outputs": [],
   "source": [
    "pred = 'target_predictions/Mexico_04-07.csv'"
   ]
  },
  {
   "cell_type": "code",
   "execution_count": null,
   "metadata": {},
   "outputs": [],
   "source": [
    "pred[-6:-4]"
   ]
  },
  {
   "cell_type": "code",
   "execution_count": null,
   "metadata": {},
   "outputs": [],
   "source": [
    "calendar.month_name[int(pred[-9:-7])]"
   ]
  },
  {
   "cell_type": "code",
   "execution_count": null,
   "metadata": {},
   "outputs": [],
   "source": [
    "preds = pd.read_csv(pred)"
   ]
  },
  {
   "cell_type": "code",
   "execution_count": null,
   "metadata": {},
   "outputs": [],
   "source": [
    "preds.keys()"
   ]
  },
  {
   "cell_type": "code",
   "execution_count": null,
   "metadata": {},
   "outputs": [],
   "source": [
    "def get_data(cummulative,discrete,prediction):\n",
    "    \n",
    "    if not os.path.exists('imgs/cummulative'):\n",
    "        os.makedirs('imgs/cummulative')\n",
    "    if not os.path.exists('imgs/discrete'):\n",
    "        os.makedirs('imgs/discrete')\n",
    "    \n",
    "    pred = pd.read_csv(prediction)\n",
    "    pred['dates'] = pd.to_datetime(pred['date'].copy())\n",
    "    pred = pred.drop('date',axis=1)\n",
    "    pred = pred.set_index('dates',drop=True)\n",
    "        \n",
    "    min_date = min(min(pred.index), min(cummulative['dates']))\n",
    "    max_date = max(max(pred.index), max(cummulative['dates']))\n",
    "    \n",
    "    index = pd.date_range(start = min_date, end = max_date)\n",
    "    \n",
    "    database = {\n",
    "        'index':index,\n",
    "        'cummulative': [],\n",
    "        'discrete': [],\n",
    "        'pred_cummulative_low':[],\n",
    "        'pred_cummulative_mean':[],\n",
    "        'pred_cummulative_upper':[],\n",
    "        'pred_discrete_low': [],\n",
    "        'pred_discrete_mean':[],\n",
    "        'pred_discrete_upper':[],\n",
    "    }\n",
    "        \n",
    "    for date in index:\n",
    "        try:\n",
    "            database['cummulative'].append(cummulative[cummulative['dates'] == date].deaths.values[0])\n",
    "        except:\n",
    "            database['cummulative'].append(np.nan)\n",
    "        try:\n",
    "            \n",
    "            database['discrete'].append(discrete[discrete.index == date].deaths.values[0])\n",
    "        except:\n",
    "            database['discrete'].append(np.nan)\n",
    "        try:\n",
    "            database['pred_cummulative_low'].append(pred[pred.index == date].predicted_total_deaths_lower.values[0])\n",
    "        except:\n",
    "            database['pred_cummulative_low'].append(np.nan)\n",
    "        try:\n",
    "            database['pred_cummulative_mean'].append(pred[pred.index == date].predicted_total_deaths_mean.values[0])\n",
    "        except:\n",
    "            database['pred_cummulative_mean'].append(np.nan)\n",
    "        try:\n",
    "            database['pred_cummulative_upper'].append(pred[pred.index == date].predicted_total_deaths_upper.values[0])\n",
    "        except:\n",
    "            database['pred_cummulative_upper'].append(np.nan)\n",
    "        try:\n",
    "            database['pred_discrete_low'].append(pred[pred.index == date].predicted_deaths_lower.values[0])\n",
    "        except:\n",
    "            database['pred_discrete_low'].append(np.nan)\n",
    "        try:\n",
    "            database['pred_discrete_mean'].append(pred[pred.index == date].predicted_deaths_mean.values[0])\n",
    "        except:\n",
    "            database['pred_discrete_mean'].append(np.nan)\n",
    "        try:\n",
    "            database['pred_discrete_upper'].append(pred[pred.index == date].predicted_deaths_upper.values[0])\n",
    "        except:\n",
    "            database['pred_discrete_upper'].append(np.nan)\n",
    "    \n",
    "    plt.close('all')\n",
    "    plt.rcParams[\"figure.figsize\"] = (15,6)\n",
    "    plt.rcParams['figure.constrained_layout.use'] = True\n",
    "    \n",
    "    plt.plot(database['index'],database['discrete'], label=f'real deaths {max(cummulative.deaths)}', linewidth=5, color = 'black')\n",
    "    plt.plot(database['index'],database['pred_discrete_low'],   label = f'pred deaths: {database[\"pred_cummulative_low\"][-1]}')\n",
    "    plt.plot(database['index'],database['pred_discrete_mean'],  label = f'pred deaths: {database[\"pred_cummulative_mean\"][-1]}')\n",
    "    plt.plot(database['index'],database['pred_discrete_upper'], label = f'pred deaths: {database[\"pred_cummulative_upper\"][-1]}')\n",
    "    \n",
    "    plt.fill_between(database['index'], database['pred_discrete_low'], database['pred_discrete_upper'], color='b', alpha=.1)\n",
    "    \n",
    "    plt.title(f' predicted deaths for September: {sum(database[\"pred_discrete_mean\"]) }', fontsize=25,pad=20)\n",
    "    plt.suptitle(f'{calendar.month_name[int(prediction[-9:-7])]}-{prediction[-6:-4]}', fontsize=20,ha='left',va='top')\n",
    "    plt.ylabel('Deaths for Covid19')\n",
    "    plt.legend(fontsize=20,loc='upper left')\n",
    "    plt.xlabel(f'Real deaths: {max(cummulative.deaths)}', fontsize = 20)\n",
    "    \n",
    "    plt.savefig(f'imgs/discrete/{prediction[-9:-4]}.jpg')\n",
    "    \n",
    "    plt.close('all')\n",
    "    plt.rcParams[\"figure.figsize\"] = (15,6)\n",
    "    plt.plot(database['index'],database['cummulative'], label=f'real deaths {max(cummulative.deaths)}', linewidth=5, color = 'black')\n",
    "    plt.plot(database['index'],database['pred_cummulative_low'],   label = f'pred deaths: {database[\"pred_cummulative_low\"][-1]}')\n",
    "    plt.plot(database['index'],database['pred_cummulative_mean'],  label = f'pred deaths: {database[\"pred_cummulative_mean\"][-1]}')\n",
    "    plt.plot(database['index'],database['pred_cummulative_upper'], label = f'pred deaths: {database[\"pred_cummulative_upper\"][-1]}')\n",
    "    \n",
    "    plt.fill_between(database['index'], database['pred_cummulative_low'], database['pred_cummulative_upper'], color='b', alpha=.1)\n",
    "    \n",
    "    plt.xlabel(f'Real deaths: {max(cummulative.deaths)}', fontsize = 20)\n",
    "    plt.ylabel('Deaths for Covid19')\n",
    "    plt.title(f' predicted deaths: {database[\"pred_cummulative_mean\"][-1]}', fontsize=25,pad=20)\n",
    "    plt.suptitle(f'{calendar.month_name[int(prediction[-9:-7])]}-{prediction[-6:-4]}', fontsize=20,ha='left', va='top')\n",
    "    plt.legend(fontsize=16,loc='upper left')\n",
    "\n",
    "    \n",
    "    plt.savefig(f'imgs/cummulative/{prediction[-9:-4]}.jpg')\n",
    "    \n",
    "    return database\n",
    "    "
   ]
  },
  {
   "cell_type": "code",
   "execution_count": null,
   "metadata": {
    "scrolled": false
   },
   "outputs": [],
   "source": [
    "for file in os.listdir('target_predictions'):\n",
    "    get_data(cummulative,discrete,os.path.join('target_predictions',file))"
   ]
  },
  {
   "cell_type": "code",
   "execution_count": null,
   "metadata": {
    "scrolled": true
   },
   "outputs": [],
   "source": [
    "database['cummulative'][-1]"
   ]
  },
  {
   "cell_type": "code",
   "execution_count": null,
   "metadata": {
    "scrolled": false
   },
   "outputs": [],
   "source": [
    "plt.close('all')\n",
    "plt.rcParams[\"figure.figsize\"] = (15,6)\n",
    "plt.plot(database['index'],database['cummulative'], label='real deaths')\n",
    "plt.plot(database['index'],database['pred_cummulative_low'], label = 'predicted mean')\n",
    "plt.plot(database['index'],database['pred_cummulative_mean'], label = 'predicted low')\n",
    "plt.plot(database['index'],database['pred_cummulative_upper'], label = 'predicted upper')\n",
    "\n",
    "plt.legend()"
   ]
  },
  {
   "cell_type": "code",
   "execution_count": null,
   "metadata": {},
   "outputs": [],
   "source": [
    "import imageio\n",
    "images = []\n",
    "for filename in os.listdir('imgs/cummulative'):\n",
    "    images.append(imageio.imread(os.path.join('imgs/cummulative',filename)))\n",
    "imageio.mimsave('cummulative.mp4', images)"
   ]
  },
  {
   "cell_type": "code",
   "execution_count": null,
   "metadata": {},
   "outputs": [],
   "source": [
    "images = []\n",
    "for filename in os.listdir('imgs/discrete'):\n",
    "    images.append(imageio.imread(os.path.join('imgs/discrete',filename)))\n",
    "imageio.mimsave('discrete.mp4', images)"
   ]
  },
  {
   "cell_type": "code",
   "execution_count": null,
   "metadata": {},
   "outputs": [],
   "source": [
    "os.path.exists(r'C:\\Users\\jupol\\Desktop\\TensorTut\\covid\\death predictions\\04-07.jpg')"
   ]
  },
  {
   "cell_type": "code",
   "execution_count": null,
   "metadata": {},
   "outputs": [],
   "source": [
    "images = []\n",
    "for filename in os.listdir('imgs/discrete'):\n",
    "    images.append(imageio.imread(os.path.join('imgs/discrete',filename)))\n",
    "imageio.mimsave('discrete.gif', images, duration=0.3)"
   ]
  }
 ],
 "metadata": {
  "kernelspec": {
   "display_name": "Python 3",
   "language": "python",
   "name": "python3"
  },
  "language_info": {
   "codemirror_mode": {
    "name": "ipython",
    "version": 3
   },
   "file_extension": ".py",
   "mimetype": "text/x-python",
   "name": "python",
   "nbconvert_exporter": "python",
   "pygments_lexer": "ipython3",
   "version": "3.7.5"
  }
 },
 "nbformat": 4,
 "nbformat_minor": 4
}
